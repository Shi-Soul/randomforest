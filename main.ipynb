{
 "cells": [
  {
   "cell_type": "code",
   "execution_count": 106,
   "metadata": {},
   "outputs": [],
   "source": [
    "arg=\"-d cifar10 --rf_type ccf --n_jobs 20 --criterion entropy --soft_pred --n_estimators 65 --max_depth 27 --min_samples_split 2 --min_samples_leaf 56 --min_impurity_decrease 2.07e-14 -V\"\n",
    "# arg=\"-S -d mnist --max_depth 10 --random_state 0 --min_samples_leaf 3 --min_samples_split 10 --max_features 0.7\"\n",
    "# arg = \"-pDV -d test --rf_type rf --max_features 1.0 --n_estimators 1 --max_depth 8 --bootstrap False\"\n",
    "# arg=\"-SV -d mnist --n_jobs 30 --soft_pred --criterion gini --n_estimators 69 --max_depth 18 --min_samples_split 1 --min_samples_leaf 9 --min_impurity_decrease 1.347e-07\"\n",
    "# arg=\"-DV -d mnist --criterion entropy --n_estimators 100 --max_depth 10 --min_samples_leaf 3 --min_samples_split 8 --max_samples 0.7\""
   ]
  },
  {
   "cell_type": "code",
   "execution_count": 107,
   "metadata": {},
   "outputs": [],
   "source": [
    "# Import Packages\n",
    "\n",
    "import logging\n",
    "import argparse\n",
    "import os\n",
    "import sys\n",
    "import time\n",
    "import numpy as np\n",
    "import matplotlib.pyplot as plt\n",
    "\n",
    "from utils import *\n",
    "from model import *\n",
    "\n",
    "logging.basicConfig(filename='output.log',level=logging.INFO, format='%(asctime)s [%(levelname)s]: %(message)s')\n",
    "logging.info(f'-----------------------------\\nStart of running with arguments: (\\\"{arg}\\\")')"
   ]
  },
  {
   "cell_type": "code",
   "execution_count": 108,
   "metadata": {},
   "outputs": [
    {
     "name": "stdout",
     "output_type": "stream",
     "text": [
      "Config: {'verbose': True, 'debug': False, 'sklearn': False, 'parallel': True, 'save': './save', 'dataset': 'cifar10', 'val_ratio': 0.1, 'rf_type': 'ccf', 'n_jobs': 20, 'soft_pred': True, 'criterion': 'entropy', 'n_estimators': 65, 'max_depth': 27, 'min_samples_split': 2, 'min_samples_leaf': 56, 'max_features': None, 'max_leaf_nodes': None, 'min_impurity_decrease': 2.07e-14, 'bootstrap': True, 'projection_bootstrap': True, 'oob_score': False, 'ccp_alpha': 0.0, 'max_samples': None}\n"
     ]
    }
   ],
   "source": [
    "## Set Config\n",
    "\n",
    "config = parse(arg)\n",
    "model_config = get_model_config(config)\n",
    "\n",
    "info = f\"Config: {vars(config)}\"\n",
    "logging.info(info)\n",
    "if config.verbose:\n",
    "    print(info)\n"
   ]
  },
  {
   "cell_type": "code",
   "execution_count": 109,
   "metadata": {},
   "outputs": [
    {
     "name": "stdout",
     "output_type": "stream",
     "text": [
      "(4500, 3072) (4500, 1)\n",
      "(500, 3072) (500, 1)\n",
      "(1000, 3072) (1000, 1)\n"
     ]
    }
   ],
   "source": [
    "# Load Dataset\n",
    "\n",
    "dataset,dataset_shape = get_dataset(config)\n",
    "train_dataset,val_dataset,test_dataset = split_dataset(dataset,config.val_ratio)\n",
    "\n",
    "if config.verbose:\n",
    "    for term in [train_dataset,val_dataset,test_dataset]:\n",
    "        print(term[0].shape,term[1].shape)\n",
    "    if not config.dataset == \"test\":\n",
    "        # show_images(*val_dataset,dataset_shape)\n",
    "        pass\n",
    "    else:\n",
    "        print(val_dataset[1][:10])\n",
    "        plot_test(*train_dataset)"
   ]
  },
  {
   "cell_type": "code",
   "execution_count": 91,
   "metadata": {},
   "outputs": [
    {
     "name": "stdout",
     "output_type": "stream",
     "text": [
      "Creating the CCF!\n",
      "train_images: (4500, 3072), train_labels: (4500, 1)\n"
     ]
    },
    {
     "name": "stderr",
     "output_type": "stream",
     "text": [
      "[Parallel(n_jobs=30)]: Using backend LokyBackend with 30 concurrent workers.\n"
     ]
    },
    {
     "name": "stdout",
     "output_type": "stream",
     "text": [
      "Creating the 1/60 CCF Base Decision Tree\n",
      "Creating the 25/60 CCF Base Decision Tree\n",
      "Creating the 13/60 CCF Base Decision Tree\n",
      "Finish Creating the 1/60 CCF Base Decision Tree with depth 7\n",
      " time per tree: 15.936 s\n",
      "Creating the 37/60 CCF Base Decision Tree\n",
      "Finish Creating the 13/60 CCF Base Decision Tree with depth 7\n",
      " time per tree: 24.666 s\n",
      "Creating the 49/60 CCF Base Decision Tree\n",
      "Finish Creating the 25/60 CCF Base Decision Tree with depth 9\n",
      " time per tree: 28.201 s\n",
      "Finish Creating the 37/60 CCF Base Decision Tree with depth 6\n",
      " time per tree: 19.597 s\n",
      "Finish Creating the 49/60 CCF Base Decision Tree with depth 8\n",
      " time per tree: 21.859 s\n"
     ]
    },
    {
     "name": "stderr",
     "output_type": "stream",
     "text": [
      "[Parallel(n_jobs=30)]: Done  60 out of  60 | elapsed:   52.2s finished\n"
     ]
    },
    {
     "name": "stdout",
     "output_type": "stream",
     "text": [
      "Finish Creating the CCF! with 60 Base Decision Trees with depth:\n",
      "\t [7, 7, 8, 7, 8, 8, 7, 7, 8, 7, 7, 8, 7, 7, 7, 9, 8, 8, 8, 9, 7, 8, 9, 8, 9, 9, 8, 7, 8, 6, 8, 7, 8, 7, 9, 7, 6, 8, 8, 7, 8, 8, 8, 8, 8, 7, 7, 7, 8, 8, 7, 9, 6, 8, 7, 8, 8, 6, 7, 6]\n",
      "\t with num of nodes: [55, 81, 77, 81, 73, 83, 81, 85, 77, 87, 89, 81, 79, 91, 79, 95, 81, 81, 93, 71, 77, 87, 79, 79, 91, 87, 91, 81, 73, 75, 61, 69, 91, 83, 77, 71, 65, 91, 79, 77, 85, 89, 71, 95, 79, 77, 73, 75, 83, 91, 69, 71, 83, 77, 79, 75, 75, 63, 65, 55]\n",
      " total time: 52.324 s\n",
      "\n",
      "Finishing Training RandomForest\n",
      "Model Saved to ./save/my_cifar10_5532133.pkl\n",
      "Validation Accuracy: 0.3920, Validation Samples Num: 500\n",
      "Time Cost: 53.02s\n"
     ]
    }
   ],
   "source": [
    "# Train Model\n",
    "\n",
    "model = get_model(config,model_config)\n",
    "\n",
    "train_model(config,model,train_dataset,val_dataset)"
   ]
  },
  {
   "cell_type": "code",
   "execution_count": 92,
   "metadata": {},
   "outputs": [
    {
     "ename": "NotImplementedError",
     "evalue": "",
     "output_type": "error",
     "traceback": [
      "\u001b[0;31m---------------------------------------------------------------------------\u001b[0m",
      "\u001b[0;31mNotImplementedError\u001b[0m                       Traceback (most recent call last)",
      "Cell \u001b[0;32mIn[92], line 1\u001b[0m\n\u001b[0;32m----> 1\u001b[0m \u001b[39mraise\u001b[39;00m \u001b[39mNotImplementedError\u001b[39;00m\n",
      "\u001b[0;31mNotImplementedError\u001b[0m: "
     ]
    }
   ],
   "source": [
    "raise NotImplementedError"
   ]
  },
  {
   "cell_type": "code",
   "execution_count": 110,
   "metadata": {},
   "outputs": [],
   "source": [
    "## Load Model\n",
    "## pickle \n",
    "reload_name = \"my_cifar10_5547533\"\n",
    "model_path = os.path.join(config.save,reload_name+\".pkl\")\n",
    "info = f\"ReLoading model {reload_name}\"\n",
    "logging.info(info)\n",
    "with open(model_path,\"rb\") as f:\n",
    "    model = pickle.load(f)\n",
    "    info = f\"Model Config: {vars(model.config)}\"\n",
    "    logging.info(info)\n",
    "    config = model.config"
   ]
  },
  {
   "cell_type": "code",
   "execution_count": 111,
   "metadata": {},
   "outputs": [
    {
     "name": "stdout",
     "output_type": "stream",
     "text": [
      "Testing RandomForest\n",
      "Test Accuracy: 0.3710, Test time: 4.56 s\n",
      "Config: {'verbose': True, 'debug': False, 'sklearn': False, 'parallel': True, 'save': './save', 'dataset': 'cifar10', 'val_ratio': 0.1, 'rf_type': 'ccf', 'n_jobs': 30, 'soft_pred': False, 'criterion': 'gini', 'n_estimators': 200, 'max_depth': 24, 'min_samples_split': 2, 'min_samples_leaf': 56, 'max_features': None, 'max_leaf_nodes': None, 'min_impurity_decrease': 1e-12, 'bootstrap': True, 'projection_bootstrap': True, 'oob_score': False, 'ccp_alpha': 0.0, 'max_samples': None}\n",
      "\n"
     ]
    }
   ],
   "source": [
    "## Test\n",
    "start_time = time.time()\n",
    "score = model.score(*test_dataset)\n",
    "end_time = time.time()\n",
    "info =  f\"Testing RandomForest\\n\"+\\\n",
    "        f\"Test Accuracy: {score:.4f}, Test time: {round(end_time-start_time,2)} s\\n\"+\\\n",
    "        f\"Config: {vars(config)}\\n\"\n",
    "print(info)\n",
    "logging.info(info)"
   ]
  },
  {
   "cell_type": "code",
   "execution_count": 112,
   "metadata": {},
   "outputs": [
    {
     "name": "stdout",
     "output_type": "stream",
     "text": [
      "[83, 85, 89, 75, 69, 93, 83, 79, 61, 79, 77, 81, 87, 83, 85, 83, 79, 87, 67, 95, 83, 83, 69, 75, 67, 83, 81, 87, 85, 89, 73, 87, 75, 69, 83, 71, 89, 71, 63, 83, 85, 75, 77, 81, 73, 85, 87, 77, 71, 77, 89, 85, 83, 81, 75, 91, 79, 81, 87, 77, 87, 69, 85, 75, 79, 73, 79, 79, 75, 81, 91, 83, 75, 67, 85, 91, 55, 77, 83, 85, 83, 81, 81, 91, 77, 79, 79, 75, 81, 89, 75, 91, 85, 79, 75, 85, 75, 81, 81, 75, 75, 83, 87, 91, 85, 85, 89, 71, 79, 81, 87, 75, 73, 75, 67, 81, 71, 91, 77, 81, 87, 87, 83, 85, 85, 83, 87, 83, 85, 77, 83, 83, 91, 81, 77, 71, 83, 87, 75, 91, 77, 81, 91, 93, 77, 81, 73, 85, 79, 75, 85, 87, 87, 73, 61, 77, 75, 79, 75, 75, 79, 81, 69, 89, 83, 81, 79, 79, 73, 89, 81, 69, 83, 77, 77, 83, 71, 77, 89, 95, 69, 91, 71, 87, 89, 87, 73, 85, 87, 85, 89, 93, 75, 89, 73, 79, 77, 79, 89, 83]\n",
      "[8, 8, 6, 7, 7, 8, 8, 6, 7, 8, 8, 7, 9, 8, 8, 6, 9, 7, 7, 8, 7, 8, 7, 7, 7, 7, 9, 8, 8, 7, 8, 7, 7, 9, 8, 7, 7, 8, 7, 8, 7, 7, 7, 7, 7, 7, 7, 7, 7, 7, 8, 8, 7, 7, 8, 8, 8, 8, 8, 8, 7, 7, 9, 9, 7, 7, 8, 7, 7, 7, 9, 8, 8, 8, 8, 7, 7, 7, 8, 8, 7, 8, 7, 8, 7, 9, 8, 6, 7, 8, 7, 7, 7, 9, 8, 7, 7, 7, 8, 7, 7, 8, 7, 8, 10, 8, 9, 6, 8, 7, 8, 8, 7, 8, 9, 7, 8, 8, 8, 7, 8, 7, 7, 7, 7, 6, 9, 7, 7, 8, 7, 7, 8, 7, 8, 7, 8, 7, 8, 7, 7, 6, 7, 7, 7, 8, 7, 7, 6, 6, 8, 7, 8, 7, 7, 8, 7, 9, 9, 9, 7, 9, 7, 7, 8, 8, 9, 9, 9, 9, 7, 8, 7, 9, 8, 7, 7, 8, 7, 7, 7, 7, 8, 7, 9, 8, 7, 7, 8, 8, 7, 9, 8, 7, 7, 10, 7, 7, 7, 8]\n"
     ]
    }
   ],
   "source": [
    "# Print Tree Nodes and Depths\n",
    "\n",
    "t_nodes = [tree.root._get_tree_nodes() for tree in model.trees]\n",
    "t_depths = [tree.root._get_tree_depth() for tree in model.trees]\n",
    "print(t_nodes)\n",
    "print(t_depths)"
   ]
  },
  {
   "cell_type": "code",
   "execution_count": null,
   "metadata": {},
   "outputs": [],
   "source": [
    "\n",
    "config.soft_pred = True\n",
    "model.config.soft_pred = True\n",
    "for tree in model.trees:\n",
    "    root = tree.root \n",
    "    nodes = [root]\n",
    "    n_nodes = []\n",
    "    num = 0\n",
    "    while len(nodes) != 0:\n",
    "        node = nodes.pop(0)\n",
    "        node.config.soft_pred = True\n",
    "        if node.is_leaf:\n",
    "            pass\n",
    "        else:\n",
    "            if node.child[0] is not None:\n",
    "                nodes.append(node.child[0])\n",
    "            if node.child[1] is not None:\n",
    "                nodes.append(node.child[1])\n",
    "        n_nodes.append(node.n_node_samples)\n",
    "    # print(num,end=\",\")\n",
    "    # print(n_nodes)"
   ]
  },
  {
   "cell_type": "code",
   "execution_count": null,
   "metadata": {},
   "outputs": [
    {
     "name": "stdout",
     "output_type": "stream",
     "text": [
      "<model.RandomForest object at 0x7f2602579000>\n"
     ]
    },
    {
     "data": {
      "image/png": "[encoded data removed]",
      "text/plain": [
       "<Figure size 500x500 with 1 Axes>"
      ]
     },
     "metadata": {},
     "output_type": "display_data"
    }
   ],
   "source": [
    "if config.dataset == \"test\":\n",
    "    print(model)\n",
    "    test_labels = val_dataset[1]\n",
    "    pred_labels = model.predict(val_dataset[0])\n",
    "    # print((pred_labels==test_labels))\n",
    "    # plot_test(*val_dataset, pred = pred_labels,clf=model)\n",
    "    plot_test(*train_dataset, pred = model.predict(train_dataset[0]),clf=model)\n",
    "    model.score(*val_dataset)\n",
    "    tree = model.trees[0].root.child[0]\n",
    "    # print(root.CCA.A,root.CCA.B)\n",
    "    ## plot root.CCA, transform val_dataset\n",
    "    # print(tree.a)\n",
    "    # plot_test((val_dataset[0][:,tree.choices].dot(tree.a)),val_dataset[1])"
   ]
  }
 ],
 "metadata": {
  "kernelspec": {
   "display_name": "base",
   "language": "python",
   "name": "python3"
  },
  "language_info": {
   "codemirror_mode": {
    "name": "ipython",
    "version": 3
   },
   "file_extension": ".py",
   "mimetype": "text/x-python",
   "name": "python",
   "nbconvert_exporter": "python",
   "pygments_lexer": "ipython3",
   "version": "3.10.9"
  },
  "orig_nbformat": 4,
  "vscode": {
   "interpreter": {
    "hash": "5840bd28907b92c86c942fc1b3cf2865c456f7f2fb9fc3f0775969cbad9a1c21"
   }
  }
 },
 "nbformat": 4,
 "nbformat_minor": 2
}
